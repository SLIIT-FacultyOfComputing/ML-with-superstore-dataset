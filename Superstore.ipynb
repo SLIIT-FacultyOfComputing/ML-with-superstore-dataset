{
  "cells": [
    {
      "cell_type": "markdown",
      "metadata": {
        "id": "view-in-github",
        "colab_type": "text"
      },
      "source": [
        "<a href=\"https://colab.research.google.com/github/SupunGurusinghe/ML-with-superstore-dataset/blob/pre-processing/Superstore.ipynb\" target=\"_parent\"><img src=\"https://colab.research.google.com/assets/colab-badge.svg\" alt=\"Open In Colab\"/></a>"
      ]
    },
    {
      "cell_type": "code",
      "execution_count": null,
      "metadata": {
        "colab": {
          "base_uri": "https://localhost:8080/"
        },
        "id": "GoyJwNGEItzF",
        "outputId": "f6f0caae-495b-45f7-ad11-7c28843b4467"
      },
      "outputs": [
        {
          "output_type": "stream",
          "name": "stdout",
          "text": [
            "Looking in indexes: https://pypi.org/simple, https://us-python.pkg.dev/colab-wheels/public/simple/\n",
            "Requirement already satisfied: pyspark in /usr/local/lib/python3.7/dist-packages (3.3.0)\n",
            "Requirement already satisfied: py4j==0.10.9.5 in /usr/local/lib/python3.7/dist-packages (from pyspark) (0.10.9.5)\n"
          ]
        }
      ],
      "source": [
        "# install pyspark\n",
        "!pip install pyspark"
      ]
    },
    {
      "cell_type": "code",
      "execution_count": null,
      "metadata": {
        "colab": {
          "base_uri": "https://localhost:8080/",
          "height": 219
        },
        "id": "9ABlfxAiI4dQ",
        "outputId": "38da1695-2d67-43b6-9a87-b25975f37ee0"
      },
      "outputs": [
        {
          "output_type": "execute_result",
          "data": {
            "text/plain": [
              "<pyspark.sql.session.SparkSession at 0x7f3b6d9696d0>"
            ],
            "text/html": [
              "\n",
              "            <div>\n",
              "                <p><b>SparkSession - in-memory</b></p>\n",
              "                \n",
              "        <div>\n",
              "            <p><b>SparkContext</b></p>\n",
              "\n",
              "            <p><a href=\"http://89fda1756974:4040\">Spark UI</a></p>\n",
              "\n",
              "            <dl>\n",
              "              <dt>Version</dt>\n",
              "                <dd><code>v3.3.0</code></dd>\n",
              "              <dt>Master</dt>\n",
              "                <dd><code>local[*]</code></dd>\n",
              "              <dt>AppName</dt>\n",
              "                <dd><code>pyspark-shell</code></dd>\n",
              "            </dl>\n",
              "        </div>\n",
              "        \n",
              "            </div>\n",
              "        "
            ]
          },
          "metadata": {},
          "execution_count": 48
        }
      ],
      "source": [
        "# Import SparkSession\n",
        "from pyspark.sql import SparkSession\n",
        "# Create a Spark Session\n",
        "spark = SparkSession.builder.master(\"local[*]\").getOrCreate()\n",
        "# Check Spark Session Information\n",
        "spark"
      ]
    },
    {
      "cell_type": "markdown",
      "metadata": {
        "id": "uBLoWKQJvGmR"
      },
      "source": [
        "# **Data Preprocessing**"
      ]
    },
    {
      "cell_type": "markdown",
      "metadata": {
        "id": "fgIC_MbhvQx8"
      },
      "source": [
        "### **Importing packages**"
      ]
    },
    {
      "cell_type": "code",
      "execution_count": null,
      "metadata": {
        "id": "Yv0oA5a5gvwU"
      },
      "outputs": [],
      "source": [
        "import pandas as pd\n",
        "import numpy as np"
      ]
    },
    {
      "cell_type": "markdown",
      "metadata": {
        "id": "dsu95Bhyvsbp"
      },
      "source": [
        "### **Importing superstore dataset**"
      ]
    },
    {
      "cell_type": "code",
      "execution_count": null,
      "metadata": {
        "id": "8S7jk9rTupXe",
        "colab": {
          "base_uri": "https://localhost:8080/",
          "height": 1000
        },
        "outputId": "7e2d38d7-5e7b-4592-acad-d3de44fc922c"
      },
      "outputs": [
        {
          "output_type": "execute_result",
          "data": {
            "text/plain": [
              "      Row ID        Order ID  Order Date   Ship Date       Ship Mode  \\\n",
              "0          1  CA-2016-152156   11/8/2016  11/11/2016    Second Class   \n",
              "1          2  CA-2016-152156   11/8/2016  11/11/2016    Second Class   \n",
              "2          3  CA-2016-138688   6/12/2016   6/16/2016    Second Class   \n",
              "3          4  US-2015-108966  10/11/2015  10/18/2015  Standard Class   \n",
              "4          5  US-2015-108966  10/11/2015  10/18/2015  Standard Class   \n",
              "...      ...             ...         ...         ...             ...   \n",
              "9989    9990  CA-2014-110422   1/21/2014   1/23/2014    Second Class   \n",
              "9990    9991  CA-2017-121258   2/26/2017    3/3/2017  Standard Class   \n",
              "9991    9992  CA-2017-121258   2/26/2017    3/3/2017  Standard Class   \n",
              "9992    9993  CA-2017-121258   2/26/2017    3/3/2017  Standard Class   \n",
              "9993    9994  CA-2017-119914    5/4/2017    5/9/2017    Second Class   \n",
              "\n",
              "     Customer ID     Customer Name    Segment        Country             City  \\\n",
              "0       CG-12520       Claire Gute   Consumer  United States        Henderson   \n",
              "1       CG-12520       Claire Gute   Consumer  United States        Henderson   \n",
              "2       DV-13045   Darrin Van Huff  Corporate  United States      Los Angeles   \n",
              "3       SO-20335    Sean O'Donnell   Consumer  United States  Fort Lauderdale   \n",
              "4       SO-20335    Sean O'Donnell   Consumer  United States  Fort Lauderdale   \n",
              "...          ...               ...        ...            ...              ...   \n",
              "9989    TB-21400  Tom Boeckenhauer   Consumer  United States            Miami   \n",
              "9990    DB-13060       Dave Brooks   Consumer  United States       Costa Mesa   \n",
              "9991    DB-13060       Dave Brooks   Consumer  United States       Costa Mesa   \n",
              "9992    DB-13060       Dave Brooks   Consumer  United States       Costa Mesa   \n",
              "9993    CC-12220      Chris Cortes   Consumer  United States      Westminster   \n",
              "\n",
              "      ... Postal Code  Region       Product ID         Category Sub-Category  \\\n",
              "0     ...       42420   South  FUR-BO-10001798              NaN    Bookcases   \n",
              "1     ...       42420   South  FUR-CH-10000454        Furniture       Chairs   \n",
              "2     ...       90036    West  OFF-LA-10000240  Office Supplies       Labels   \n",
              "3     ...       33311   South  FUR-TA-10000577        Furniture       Tables   \n",
              "4     ...       33311   South  OFF-ST-10000760  Office Supplies      Storage   \n",
              "...   ...         ...     ...              ...              ...          ...   \n",
              "9989  ...       33180   South  FUR-FU-10001889        Furniture  Furnishings   \n",
              "9990  ...       92627    West  FUR-FU-10000747        Furniture  Furnishings   \n",
              "9991  ...       92627    West  TEC-PH-10003645       Technology       Phones   \n",
              "9992  ...       92627    West  OFF-PA-10004041  Office Supplies        Paper   \n",
              "9993  ...       92683    West  OFF-AP-10002684  Office Supplies   Appliances   \n",
              "\n",
              "                                           Product Name     Sales  Quantity  \\\n",
              "0                     Bush Somerset Collection Bookcase  261.9600         2   \n",
              "1     Hon Deluxe Fabric Upholstered Stacking Chairs,...  731.9400         3   \n",
              "2     Self-Adhesive Address Labels for Typewriters b...   14.6200         2   \n",
              "3         Bretford CR4500 Series Slim Rectangular Table  957.5775         5   \n",
              "4                        Eldon Fold 'N Roll Cart System   22.3680         2   \n",
              "...                                                 ...       ...       ...   \n",
              "9989                             Ultra Door Pull Handle   25.2480         3   \n",
              "9990  Tenex B1-RE Series Chair Mats for Low Pile Car...   91.9600         2   \n",
              "9991                              Aastra 57i VoIP phone  258.5760         2   \n",
              "9992  It's Hot Message Books with Stickers, 2 3/4\" x 5\"   29.6000         4   \n",
              "9993  Acco 7-Outlet Masterpiece Power Center, Wihtou...  243.1600         2   \n",
              "\n",
              "      Discount    Profit  \n",
              "0         0.00   41.9136  \n",
              "1         0.00  219.5820  \n",
              "2         0.00    6.8714  \n",
              "3         0.45 -383.0310  \n",
              "4         0.20    2.5164  \n",
              "...        ...       ...  \n",
              "9989      0.20    4.1028  \n",
              "9990      0.00   15.6332  \n",
              "9991      0.20   19.3932  \n",
              "9992      0.00   13.3200  \n",
              "9993      0.00   72.9480  \n",
              "\n",
              "[9994 rows x 21 columns]"
            ],
            "text/html": [
              "\n",
              "  <div id=\"df-af93b215-a172-4524-9599-ea6ec5da561a\">\n",
              "    <div class=\"colab-df-container\">\n",
              "      <div>\n",
              "<style scoped>\n",
              "    .dataframe tbody tr th:only-of-type {\n",
              "        vertical-align: middle;\n",
              "    }\n",
              "\n",
              "    .dataframe tbody tr th {\n",
              "        vertical-align: top;\n",
              "    }\n",
              "\n",
              "    .dataframe thead th {\n",
              "        text-align: right;\n",
              "    }\n",
              "</style>\n",
              "<table border=\"1\" class=\"dataframe\">\n",
              "  <thead>\n",
              "    <tr style=\"text-align: right;\">\n",
              "      <th></th>\n",
              "      <th>Row ID</th>\n",
              "      <th>Order ID</th>\n",
              "      <th>Order Date</th>\n",
              "      <th>Ship Date</th>\n",
              "      <th>Ship Mode</th>\n",
              "      <th>Customer ID</th>\n",
              "      <th>Customer Name</th>\n",
              "      <th>Segment</th>\n",
              "      <th>Country</th>\n",
              "      <th>City</th>\n",
              "      <th>...</th>\n",
              "      <th>Postal Code</th>\n",
              "      <th>Region</th>\n",
              "      <th>Product ID</th>\n",
              "      <th>Category</th>\n",
              "      <th>Sub-Category</th>\n",
              "      <th>Product Name</th>\n",
              "      <th>Sales</th>\n",
              "      <th>Quantity</th>\n",
              "      <th>Discount</th>\n",
              "      <th>Profit</th>\n",
              "    </tr>\n",
              "  </thead>\n",
              "  <tbody>\n",
              "    <tr>\n",
              "      <th>0</th>\n",
              "      <td>1</td>\n",
              "      <td>CA-2016-152156</td>\n",
              "      <td>11/8/2016</td>\n",
              "      <td>11/11/2016</td>\n",
              "      <td>Second Class</td>\n",
              "      <td>CG-12520</td>\n",
              "      <td>Claire Gute</td>\n",
              "      <td>Consumer</td>\n",
              "      <td>United States</td>\n",
              "      <td>Henderson</td>\n",
              "      <td>...</td>\n",
              "      <td>42420</td>\n",
              "      <td>South</td>\n",
              "      <td>FUR-BO-10001798</td>\n",
              "      <td>NaN</td>\n",
              "      <td>Bookcases</td>\n",
              "      <td>Bush Somerset Collection Bookcase</td>\n",
              "      <td>261.9600</td>\n",
              "      <td>2</td>\n",
              "      <td>0.00</td>\n",
              "      <td>41.9136</td>\n",
              "    </tr>\n",
              "    <tr>\n",
              "      <th>1</th>\n",
              "      <td>2</td>\n",
              "      <td>CA-2016-152156</td>\n",
              "      <td>11/8/2016</td>\n",
              "      <td>11/11/2016</td>\n",
              "      <td>Second Class</td>\n",
              "      <td>CG-12520</td>\n",
              "      <td>Claire Gute</td>\n",
              "      <td>Consumer</td>\n",
              "      <td>United States</td>\n",
              "      <td>Henderson</td>\n",
              "      <td>...</td>\n",
              "      <td>42420</td>\n",
              "      <td>South</td>\n",
              "      <td>FUR-CH-10000454</td>\n",
              "      <td>Furniture</td>\n",
              "      <td>Chairs</td>\n",
              "      <td>Hon Deluxe Fabric Upholstered Stacking Chairs,...</td>\n",
              "      <td>731.9400</td>\n",
              "      <td>3</td>\n",
              "      <td>0.00</td>\n",
              "      <td>219.5820</td>\n",
              "    </tr>\n",
              "    <tr>\n",
              "      <th>2</th>\n",
              "      <td>3</td>\n",
              "      <td>CA-2016-138688</td>\n",
              "      <td>6/12/2016</td>\n",
              "      <td>6/16/2016</td>\n",
              "      <td>Second Class</td>\n",
              "      <td>DV-13045</td>\n",
              "      <td>Darrin Van Huff</td>\n",
              "      <td>Corporate</td>\n",
              "      <td>United States</td>\n",
              "      <td>Los Angeles</td>\n",
              "      <td>...</td>\n",
              "      <td>90036</td>\n",
              "      <td>West</td>\n",
              "      <td>OFF-LA-10000240</td>\n",
              "      <td>Office Supplies</td>\n",
              "      <td>Labels</td>\n",
              "      <td>Self-Adhesive Address Labels for Typewriters b...</td>\n",
              "      <td>14.6200</td>\n",
              "      <td>2</td>\n",
              "      <td>0.00</td>\n",
              "      <td>6.8714</td>\n",
              "    </tr>\n",
              "    <tr>\n",
              "      <th>3</th>\n",
              "      <td>4</td>\n",
              "      <td>US-2015-108966</td>\n",
              "      <td>10/11/2015</td>\n",
              "      <td>10/18/2015</td>\n",
              "      <td>Standard Class</td>\n",
              "      <td>SO-20335</td>\n",
              "      <td>Sean O'Donnell</td>\n",
              "      <td>Consumer</td>\n",
              "      <td>United States</td>\n",
              "      <td>Fort Lauderdale</td>\n",
              "      <td>...</td>\n",
              "      <td>33311</td>\n",
              "      <td>South</td>\n",
              "      <td>FUR-TA-10000577</td>\n",
              "      <td>Furniture</td>\n",
              "      <td>Tables</td>\n",
              "      <td>Bretford CR4500 Series Slim Rectangular Table</td>\n",
              "      <td>957.5775</td>\n",
              "      <td>5</td>\n",
              "      <td>0.45</td>\n",
              "      <td>-383.0310</td>\n",
              "    </tr>\n",
              "    <tr>\n",
              "      <th>4</th>\n",
              "      <td>5</td>\n",
              "      <td>US-2015-108966</td>\n",
              "      <td>10/11/2015</td>\n",
              "      <td>10/18/2015</td>\n",
              "      <td>Standard Class</td>\n",
              "      <td>SO-20335</td>\n",
              "      <td>Sean O'Donnell</td>\n",
              "      <td>Consumer</td>\n",
              "      <td>United States</td>\n",
              "      <td>Fort Lauderdale</td>\n",
              "      <td>...</td>\n",
              "      <td>33311</td>\n",
              "      <td>South</td>\n",
              "      <td>OFF-ST-10000760</td>\n",
              "      <td>Office Supplies</td>\n",
              "      <td>Storage</td>\n",
              "      <td>Eldon Fold 'N Roll Cart System</td>\n",
              "      <td>22.3680</td>\n",
              "      <td>2</td>\n",
              "      <td>0.20</td>\n",
              "      <td>2.5164</td>\n",
              "    </tr>\n",
              "    <tr>\n",
              "      <th>...</th>\n",
              "      <td>...</td>\n",
              "      <td>...</td>\n",
              "      <td>...</td>\n",
              "      <td>...</td>\n",
              "      <td>...</td>\n",
              "      <td>...</td>\n",
              "      <td>...</td>\n",
              "      <td>...</td>\n",
              "      <td>...</td>\n",
              "      <td>...</td>\n",
              "      <td>...</td>\n",
              "      <td>...</td>\n",
              "      <td>...</td>\n",
              "      <td>...</td>\n",
              "      <td>...</td>\n",
              "      <td>...</td>\n",
              "      <td>...</td>\n",
              "      <td>...</td>\n",
              "      <td>...</td>\n",
              "      <td>...</td>\n",
              "      <td>...</td>\n",
              "    </tr>\n",
              "    <tr>\n",
              "      <th>9989</th>\n",
              "      <td>9990</td>\n",
              "      <td>CA-2014-110422</td>\n",
              "      <td>1/21/2014</td>\n",
              "      <td>1/23/2014</td>\n",
              "      <td>Second Class</td>\n",
              "      <td>TB-21400</td>\n",
              "      <td>Tom Boeckenhauer</td>\n",
              "      <td>Consumer</td>\n",
              "      <td>United States</td>\n",
              "      <td>Miami</td>\n",
              "      <td>...</td>\n",
              "      <td>33180</td>\n",
              "      <td>South</td>\n",
              "      <td>FUR-FU-10001889</td>\n",
              "      <td>Furniture</td>\n",
              "      <td>Furnishings</td>\n",
              "      <td>Ultra Door Pull Handle</td>\n",
              "      <td>25.2480</td>\n",
              "      <td>3</td>\n",
              "      <td>0.20</td>\n",
              "      <td>4.1028</td>\n",
              "    </tr>\n",
              "    <tr>\n",
              "      <th>9990</th>\n",
              "      <td>9991</td>\n",
              "      <td>CA-2017-121258</td>\n",
              "      <td>2/26/2017</td>\n",
              "      <td>3/3/2017</td>\n",
              "      <td>Standard Class</td>\n",
              "      <td>DB-13060</td>\n",
              "      <td>Dave Brooks</td>\n",
              "      <td>Consumer</td>\n",
              "      <td>United States</td>\n",
              "      <td>Costa Mesa</td>\n",
              "      <td>...</td>\n",
              "      <td>92627</td>\n",
              "      <td>West</td>\n",
              "      <td>FUR-FU-10000747</td>\n",
              "      <td>Furniture</td>\n",
              "      <td>Furnishings</td>\n",
              "      <td>Tenex B1-RE Series Chair Mats for Low Pile Car...</td>\n",
              "      <td>91.9600</td>\n",
              "      <td>2</td>\n",
              "      <td>0.00</td>\n",
              "      <td>15.6332</td>\n",
              "    </tr>\n",
              "    <tr>\n",
              "      <th>9991</th>\n",
              "      <td>9992</td>\n",
              "      <td>CA-2017-121258</td>\n",
              "      <td>2/26/2017</td>\n",
              "      <td>3/3/2017</td>\n",
              "      <td>Standard Class</td>\n",
              "      <td>DB-13060</td>\n",
              "      <td>Dave Brooks</td>\n",
              "      <td>Consumer</td>\n",
              "      <td>United States</td>\n",
              "      <td>Costa Mesa</td>\n",
              "      <td>...</td>\n",
              "      <td>92627</td>\n",
              "      <td>West</td>\n",
              "      <td>TEC-PH-10003645</td>\n",
              "      <td>Technology</td>\n",
              "      <td>Phones</td>\n",
              "      <td>Aastra 57i VoIP phone</td>\n",
              "      <td>258.5760</td>\n",
              "      <td>2</td>\n",
              "      <td>0.20</td>\n",
              "      <td>19.3932</td>\n",
              "    </tr>\n",
              "    <tr>\n",
              "      <th>9992</th>\n",
              "      <td>9993</td>\n",
              "      <td>CA-2017-121258</td>\n",
              "      <td>2/26/2017</td>\n",
              "      <td>3/3/2017</td>\n",
              "      <td>Standard Class</td>\n",
              "      <td>DB-13060</td>\n",
              "      <td>Dave Brooks</td>\n",
              "      <td>Consumer</td>\n",
              "      <td>United States</td>\n",
              "      <td>Costa Mesa</td>\n",
              "      <td>...</td>\n",
              "      <td>92627</td>\n",
              "      <td>West</td>\n",
              "      <td>OFF-PA-10004041</td>\n",
              "      <td>Office Supplies</td>\n",
              "      <td>Paper</td>\n",
              "      <td>It's Hot Message Books with Stickers, 2 3/4\" x 5\"</td>\n",
              "      <td>29.6000</td>\n",
              "      <td>4</td>\n",
              "      <td>0.00</td>\n",
              "      <td>13.3200</td>\n",
              "    </tr>\n",
              "    <tr>\n",
              "      <th>9993</th>\n",
              "      <td>9994</td>\n",
              "      <td>CA-2017-119914</td>\n",
              "      <td>5/4/2017</td>\n",
              "      <td>5/9/2017</td>\n",
              "      <td>Second Class</td>\n",
              "      <td>CC-12220</td>\n",
              "      <td>Chris Cortes</td>\n",
              "      <td>Consumer</td>\n",
              "      <td>United States</td>\n",
              "      <td>Westminster</td>\n",
              "      <td>...</td>\n",
              "      <td>92683</td>\n",
              "      <td>West</td>\n",
              "      <td>OFF-AP-10002684</td>\n",
              "      <td>Office Supplies</td>\n",
              "      <td>Appliances</td>\n",
              "      <td>Acco 7-Outlet Masterpiece Power Center, Wihtou...</td>\n",
              "      <td>243.1600</td>\n",
              "      <td>2</td>\n",
              "      <td>0.00</td>\n",
              "      <td>72.9480</td>\n",
              "    </tr>\n",
              "  </tbody>\n",
              "</table>\n",
              "<p>9994 rows × 21 columns</p>\n",
              "</div>\n",
              "      <button class=\"colab-df-convert\" onclick=\"convertToInteractive('df-af93b215-a172-4524-9599-ea6ec5da561a')\"\n",
              "              title=\"Convert this dataframe to an interactive table.\"\n",
              "              style=\"display:none;\">\n",
              "        \n",
              "  <svg xmlns=\"http://www.w3.org/2000/svg\" height=\"24px\"viewBox=\"0 0 24 24\"\n",
              "       width=\"24px\">\n",
              "    <path d=\"M0 0h24v24H0V0z\" fill=\"none\"/>\n",
              "    <path d=\"M18.56 5.44l.94 2.06.94-2.06 2.06-.94-2.06-.94-.94-2.06-.94 2.06-2.06.94zm-11 1L8.5 8.5l.94-2.06 2.06-.94-2.06-.94L8.5 2.5l-.94 2.06-2.06.94zm10 10l.94 2.06.94-2.06 2.06-.94-2.06-.94-.94-2.06-.94 2.06-2.06.94z\"/><path d=\"M17.41 7.96l-1.37-1.37c-.4-.4-.92-.59-1.43-.59-.52 0-1.04.2-1.43.59L10.3 9.45l-7.72 7.72c-.78.78-.78 2.05 0 2.83L4 21.41c.39.39.9.59 1.41.59.51 0 1.02-.2 1.41-.59l7.78-7.78 2.81-2.81c.8-.78.8-2.07 0-2.86zM5.41 20L4 18.59l7.72-7.72 1.47 1.35L5.41 20z\"/>\n",
              "  </svg>\n",
              "      </button>\n",
              "      \n",
              "  <style>\n",
              "    .colab-df-container {\n",
              "      display:flex;\n",
              "      flex-wrap:wrap;\n",
              "      gap: 12px;\n",
              "    }\n",
              "\n",
              "    .colab-df-convert {\n",
              "      background-color: #E8F0FE;\n",
              "      border: none;\n",
              "      border-radius: 50%;\n",
              "      cursor: pointer;\n",
              "      display: none;\n",
              "      fill: #1967D2;\n",
              "      height: 32px;\n",
              "      padding: 0 0 0 0;\n",
              "      width: 32px;\n",
              "    }\n",
              "\n",
              "    .colab-df-convert:hover {\n",
              "      background-color: #E2EBFA;\n",
              "      box-shadow: 0px 1px 2px rgba(60, 64, 67, 0.3), 0px 1px 3px 1px rgba(60, 64, 67, 0.15);\n",
              "      fill: #174EA6;\n",
              "    }\n",
              "\n",
              "    [theme=dark] .colab-df-convert {\n",
              "      background-color: #3B4455;\n",
              "      fill: #D2E3FC;\n",
              "    }\n",
              "\n",
              "    [theme=dark] .colab-df-convert:hover {\n",
              "      background-color: #434B5C;\n",
              "      box-shadow: 0px 1px 3px 1px rgba(0, 0, 0, 0.15);\n",
              "      filter: drop-shadow(0px 1px 2px rgba(0, 0, 0, 0.3));\n",
              "      fill: #FFFFFF;\n",
              "    }\n",
              "  </style>\n",
              "\n",
              "      <script>\n",
              "        const buttonEl =\n",
              "          document.querySelector('#df-af93b215-a172-4524-9599-ea6ec5da561a button.colab-df-convert');\n",
              "        buttonEl.style.display =\n",
              "          google.colab.kernel.accessAllowed ? 'block' : 'none';\n",
              "\n",
              "        async function convertToInteractive(key) {\n",
              "          const element = document.querySelector('#df-af93b215-a172-4524-9599-ea6ec5da561a');\n",
              "          const dataTable =\n",
              "            await google.colab.kernel.invokeFunction('convertToInteractive',\n",
              "                                                     [key], {});\n",
              "          if (!dataTable) return;\n",
              "\n",
              "          const docLinkHtml = 'Like what you see? Visit the ' +\n",
              "            '<a target=\"_blank\" href=https://colab.research.google.com/notebooks/data_table.ipynb>data table notebook</a>'\n",
              "            + ' to learn more about interactive tables.';\n",
              "          element.innerHTML = '';\n",
              "          dataTable['output_type'] = 'display_data';\n",
              "          await google.colab.output.renderOutput(dataTable, element);\n",
              "          const docLink = document.createElement('div');\n",
              "          docLink.innerHTML = docLinkHtml;\n",
              "          element.appendChild(docLink);\n",
              "        }\n",
              "      </script>\n",
              "    </div>\n",
              "  </div>\n",
              "  "
            ]
          },
          "metadata": {},
          "execution_count": 60
        }
      ],
      "source": [
        "url = \"https://raw.githubusercontent.com/SupunGurusinghe/ML-with-superstore-dataset/main/superstore.csv\"\n",
        "superstore_df = pd.read_csv(url ,encoding='windows-1252')\n",
        "superstore_df"
      ]
    },
    {
      "cell_type": "markdown",
      "source": [
        "### **Creating schema for data set**"
      ],
      "metadata": {
        "id": "UZx7ktBrklkR"
      }
    },
    {
      "cell_type": "code",
      "execution_count": null,
      "metadata": {
        "id": "LGPJjgGyJd9R"
      },
      "outputs": [],
      "source": [
        "from pyspark.sql.types import *\n",
        "\n",
        "sales_schema = StructType([\n",
        "    StructField(\"RowID\", IntegerType(), False),\n",
        "    StructField(\"OrderID\", StringType(), False),\n",
        "    StructField(\"OrderDate\", StringType(), False, metadata={\"desc\": \"Date of order placed\"}),\n",
        "    StructField(\"ShipDate\", StringType(), False, metadata={\"desc\": \"Date of order shipped\"}),\n",
        "    StructField(\"ShipMode\", StringType(), True, metadata={\"desc\": \"Mode of shipment\"}),\n",
        "    StructField(\"CustomerID\", StringType(), False),\n",
        "    StructField(\"CustomerName\", StringType(), True),\n",
        "    StructField(\"Segment\", StringType(), True, metadata={\"desc\": \"Type of the customer\"}),\n",
        "    StructField(\"Country\", StringType(), True),\n",
        "    StructField(\"City\", StringType(), False),\n",
        "    StructField(\"State\", StringType(), True),\n",
        "    StructField(\"PostalCode\", StringType(), True),\n",
        "    StructField(\"Region\", StringType(), True),\n",
        "    StructField(\"ProductID\", StringType(), False),\n",
        "    StructField(\"Category\", StringType(), True),\n",
        "    StructField(\"SubCategory\", StringType(), True),\n",
        "    StructField(\"ProductName\", StringType(), True),\n",
        "    StructField(\"Sales\", FloatType(), False),\n",
        "    StructField(\"Quantity\", IntegerType(), False),\n",
        "    StructField(\"Discount\", FloatType(), False),\n",
        "    StructField(\"Profit\", FloatType(), False),\n",
        "])"
      ]
    },
    {
      "cell_type": "markdown",
      "source": [
        "### **Converting to PySpark dataframe**"
      ],
      "metadata": {
        "id": "1soFa2ybkzRc"
      }
    },
    {
      "cell_type": "code",
      "source": [
        "superstore_df = spark.createDataFrame(superstore_df, sales_schema)\n",
        "superstore_df.show()"
      ],
      "metadata": {
        "colab": {
          "base_uri": "https://localhost:8080/"
        },
        "id": "05Uqo1CwZYpq",
        "outputId": "44cac6bc-fd86-43ab-9fcf-3358b3dd9381"
      },
      "execution_count": null,
      "outputs": [
        {
          "output_type": "stream",
          "name": "stdout",
          "text": [
            "+-----+--------------+----------+----------+--------------+----------+------------------+-----------+-------------+---------------+--------------+----------+-------+---------------+---------------+-----------+--------------------+--------+--------+--------+--------+\n",
            "|RowID|       OrderID| OrderDate|  ShipDate|      ShipMode|CustomerID|      CustomerName|    Segment|      Country|           City|         State|PostalCode| Region|      ProductID|       Category|SubCategory|         ProductName|   Sales|Quantity|Discount|  Profit|\n",
            "+-----+--------------+----------+----------+--------------+----------+------------------+-----------+-------------+---------------+--------------+----------+-------+---------------+---------------+-----------+--------------------+--------+--------+--------+--------+\n",
            "|    1|CA-2016-152156| 11/8/2016|11/11/2016|  Second Class|  CG-12520|       Claire Gute|   Consumer|United States|      Henderson|      Kentucky|     42420|  South|FUR-BO-10001798|            NaN|  Bookcases|Bush Somerset Col...|  261.96|       2|     0.0| 41.9136|\n",
            "|    2|CA-2016-152156| 11/8/2016|11/11/2016|  Second Class|  CG-12520|       Claire Gute|   Consumer|United States|      Henderson|      Kentucky|     42420|  South|FUR-CH-10000454|      Furniture|     Chairs|Hon Deluxe Fabric...|  731.94|       3|     0.0| 219.582|\n",
            "|    3|CA-2016-138688| 6/12/2016| 6/16/2016|  Second Class|  DV-13045|   Darrin Van Huff|  Corporate|United States|    Los Angeles|    California|     90036|   West|OFF-LA-10000240|Office Supplies|     Labels|Self-Adhesive Add...|   14.62|       2|     0.0|  6.8714|\n",
            "|    4|US-2015-108966|10/11/2015|10/18/2015|Standard Class|  SO-20335|    Sean O'Donnell|   Consumer|United States|Fort Lauderdale|       Florida|     33311|  South|FUR-TA-10000577|      Furniture|     Tables|Bretford CR4500 S...|957.5775|       5|    0.45|-383.031|\n",
            "|    5|US-2015-108966|10/11/2015|10/18/2015|Standard Class|  SO-20335|    Sean O'Donnell|   Consumer|United States|Fort Lauderdale|       Florida|     33311|  South|OFF-ST-10000760|Office Supplies|    Storage|Eldon Fold 'N Rol...|  22.368|       2|     0.2|  2.5164|\n",
            "|    6|CA-2014-115812|  6/9/2014| 6/14/2014|Standard Class|  BH-11710|   Brosina Hoffman|   Consumer|United States|    Los Angeles|    California|     90032|   West|FUR-FU-10001487|      Furniture|Furnishings|Eldon Expressions...|   48.86|       7|     0.0| 14.1694|\n",
            "|    7|CA-2014-115812|  6/9/2014| 6/14/2014|Standard Class|  BH-11710|   Brosina Hoffman|   Consumer|United States|    Los Angeles|    California|     90032|   West|OFF-AR-10002833|Office Supplies|        Art|          Newell 322|    7.28|       4|     0.0|  1.9656|\n",
            "|    8|CA-2014-115812|  6/9/2014| 6/14/2014|Standard Class|  BH-11710|   Brosina Hoffman|   Consumer|United States|    Los Angeles|    California|     90032|   West|TEC-PH-10002275|     Technology|     Phones|Mitel 5320 IP Pho...| 907.152|       6|     0.2| 90.7152|\n",
            "|    9|CA-2014-115812|  6/9/2014| 6/14/2014|Standard Class|  BH-11710|               NaN|   Consumer|United States|    Los Angeles|    California|     90032|   West|OFF-BI-10003910|Office Supplies|    Binders|DXL Angle-View Bi...|  18.504|       3|     0.2|  5.7825|\n",
            "|   10|CA-2014-115812|  6/9/2014| 6/14/2014|Standard Class|  BH-11710|   Brosina Hoffman|   Consumer|United States|    Los Angeles|    California|     90032|   West|OFF-AP-10002892|Office Supplies| Appliances|Belkin F5C206VTEL...|   114.9|       5|     0.0|   34.47|\n",
            "|   11|CA-2014-115812|  6/9/2014| 6/14/2014|Standard Class|  BH-11710|   Brosina Hoffman|   Consumer|United States|    Los Angeles|    California|     90032|   West|FUR-TA-10001539|      Furniture|     Tables|Chromcraft Rectan...|1706.184|       9|     0.2| 85.3092|\n",
            "|   12|CA-2014-115812|  6/9/2014| 6/14/2014|Standard Class|  BH-11710|   Brosina Hoffman|   Consumer|United States|    Los Angeles|    California|     90032|   West|TEC-PH-10002033|     Technology|     Phones|Konftel 250 Confe...| 911.424|       4|     0.2| 68.3568|\n",
            "|   13|CA-2017-114412| 4/15/2017| 4/20/2017|Standard Class|  AA-10480|      Andrew Allen|   Consumer|United States|        Concord|North Carolina|     28027|  South|OFF-PA-10002365|Office Supplies|      Paper|          Xerox 1967|  15.552|       3|     0.2|  5.4432|\n",
            "|   14|CA-2016-161389| 12/5/2016|12/10/2016|Standard Class|  IM-15070|      Irene Maddox|   Consumer|United States|        Seattle|    Washington|     98103|   West|OFF-BI-10003656|Office Supplies|    Binders|Fellowes PB200 Pl...| 407.976|       3|     0.2|132.5922|\n",
            "|   15|US-2015-118983|11/22/2015|11/26/2015|Standard Class|  HP-14815|     Harold Pawlan|Home Office|United States|     Fort Worth|         Texas|     76106|Central|OFF-AP-10002311|Office Supplies| Appliances|Holmes Replacemen...|   68.81|       5|     0.8|-123.858|\n",
            "|   16|US-2015-118983|11/22/2015|11/26/2015|Standard Class|  HP-14815|     Harold Pawlan|Home Office|United States|     Fort Worth|         Texas|     76106|Central|OFF-BI-10000756|Office Supplies|    Binders|Storex DuraTech R...|   2.544|       3|     0.8|  -3.816|\n",
            "|   17|CA-2014-105893|11/11/2014|11/18/2014|Standard Class|  PK-19075|         Pete Kriz|   Consumer|United States|        Madison|     Wisconsin|     53711|Central|OFF-ST-10004186|            NaN|    Storage|Stur-D-Stor Shelv...|  665.88|       6|     0.0| 13.3176|\n",
            "|   18|CA-2014-167164| 5/13/2014| 5/15/2014|  Second Class|  AG-10270|   Alejandro Grove|   Consumer|United States|    West Jordan|          Utah|     84084|   West|OFF-ST-10000107|Office Supplies|    Storage|Fellowes Super St...|    55.5|       2|     0.0|    9.99|\n",
            "|   19|CA-2014-143336| 8/27/2014|  9/1/2014|  Second Class|  ZD-21925|Zuschuss Donatelli|   Consumer|United States|  San Francisco|    California|     94109|   West|OFF-AR-10003056|Office Supplies|        Art|          Newell 341|    8.56|       2|     0.0|  2.4824|\n",
            "|   20|CA-2014-143336| 8/27/2014|  9/1/2014|  Second Class|  ZD-21925|Zuschuss Donatelli|   Consumer|United States|  San Francisco|    California|     94109|   West|TEC-PH-10001949|     Technology|     Phones|Cisco SPA 501G IP...|  213.48|       3|     0.2|  16.011|\n",
            "+-----+--------------+----------+----------+--------------+----------+------------------+-----------+-------------+---------------+--------------+----------+-------+---------------+---------------+-----------+--------------------+--------+--------+--------+--------+\n",
            "only showing top 20 rows\n",
            "\n"
          ]
        }
      ]
    },
    {
      "cell_type": "markdown",
      "metadata": {
        "id": "N21IgTvd7Rqw"
      },
      "source": [
        "## **Handling null values**"
      ]
    },
    {
      "cell_type": "markdown",
      "source": [
        "### **Extract customer name and product category by using existing column values**"
      ],
      "metadata": {
        "id": "hG2bQy_plIqA"
      }
    },
    {
      "cell_type": "code",
      "execution_count": null,
      "metadata": {
        "colab": {
          "base_uri": "https://localhost:8080/"
        },
        "id": "TvP94AHv6IH-",
        "outputId": "56b7526c-52be-4acf-ac28-2ab3efca5af2"
      },
      "outputs": [
        {
          "output_type": "stream",
          "name": "stdout",
          "text": [
            "+----------+--------------------+\n",
            "|CustomerID| first(CustomerName)|\n",
            "+----------+--------------------+\n",
            "|  AA-10315|          Alex Avila|\n",
            "|  AA-10375|        Allen Armold|\n",
            "|  AA-10480|        Andrew Allen|\n",
            "|  AA-10645|       Anna Andreadi|\n",
            "|  AB-10015|       Aaron Bergman|\n",
            "|  AB-10060|     Adam Bellavance|\n",
            "|  AB-10105|       Adrian Barton|\n",
            "|  AB-10150|         Aimee Bixby|\n",
            "|  AB-10165|         Alan Barnes|\n",
            "|  AB-10255|Alejandro Ballentine|\n",
            "|  AB-10600|           Ann Blume|\n",
            "|  AC-10420|       Alyssa Crouse|\n",
            "|  AC-10450|             Amy Cox|\n",
            "|  AC-10615|           Ann Chong|\n",
            "|  AC-10660|          Anna Chung|\n",
            "|  AD-10180|      Alan Dominguez|\n",
            "|  AF-10870|        Art Ferguson|\n",
            "|  AF-10885|          Art Foster|\n",
            "|  AG-10270|     Alejandro Grove|\n",
            "|  AG-10300| Aleksandra Gannaway|\n",
            "+----------+--------------------+\n",
            "only showing top 20 rows\n",
            "\n",
            "+---------------+---------------+\n",
            "|      ProductID|first(Category)|\n",
            "+---------------+---------------+\n",
            "|FUR-BO-10000112|      Furniture|\n",
            "|FUR-BO-10000330|      Furniture|\n",
            "|FUR-BO-10000362|      Furniture|\n",
            "|FUR-BO-10000468|      Furniture|\n",
            "|FUR-BO-10000711|      Furniture|\n",
            "|FUR-BO-10000780|      Furniture|\n",
            "|FUR-BO-10001337|      Furniture|\n",
            "|FUR-BO-10001519|      Furniture|\n",
            "|FUR-BO-10001567|      Furniture|\n",
            "|FUR-BO-10001601|      Furniture|\n",
            "|FUR-BO-10001608|      Furniture|\n",
            "|FUR-BO-10001619|      Furniture|\n",
            "|FUR-BO-10001798|            NaN|\n",
            "|FUR-BO-10001811|      Furniture|\n",
            "|FUR-BO-10001918|      Furniture|\n",
            "|FUR-BO-10001972|      Furniture|\n",
            "|FUR-BO-10002202|      Furniture|\n",
            "|FUR-BO-10002206|      Furniture|\n",
            "|FUR-BO-10002213|      Furniture|\n",
            "|FUR-BO-10002268|      Furniture|\n",
            "+---------------+---------------+\n",
            "only showing top 20 rows\n",
            "\n"
          ]
        }
      ],
      "source": [
        "from pyspark.sql import functions\n",
        "\n",
        "df_1 = superstore_df.groupBy(superstore_df['CustomerID']).agg(functions.first(superstore_df['CustomerName'], ignorenulls=True))\n",
        "df_2 = superstore_df.groupBy(superstore_df['ProductID']).agg(functions.first(superstore_df['Category'], ignorenulls=True))\n",
        "\n",
        "df_1.show()\n",
        "df_2.show()"
      ]
    },
    {
      "cell_type": "markdown",
      "source": [
        "### **Join with newly extracted column values**"
      ],
      "metadata": {
        "id": "Tz-Y868_llMZ"
      }
    },
    {
      "cell_type": "code",
      "execution_count": 84,
      "metadata": {
        "id": "1ASfpFaLGVzY",
        "colab": {
          "base_uri": "https://localhost:8080/"
        },
        "outputId": "d89b7cd9-6c57-4eb1-e31f-57bbc0d45dfd"
      },
      "outputs": [
        {
          "output_type": "stream",
          "name": "stdout",
          "text": [
            "+----------+-------------------+-----+--------------+----------+----------+--------------+---------+-------------+-------------+------------+----------+-------+---------------+-----------+--------------------+-------+--------+--------+--------+\n",
            "|CustomerID|first(CustomerName)|RowID|       OrderID| OrderDate|  ShipDate|      ShipMode|  Segment|      Country|         City|       State|PostalCode| Region|      ProductID|SubCategory|         ProductName|  Sales|Quantity|Discount|  Profit|\n",
            "+----------+-------------------+-----+--------------+----------+----------+--------------+---------+-------------+-------------+------------+----------+-------+---------------+-----------+--------------------+-------+--------+--------+--------+\n",
            "|  VW-21775|    Victoria Wilson|  213|CA-2015-146262|  1/2/2015|  1/9/2015|Standard Class|Corporate|United States|       Medina|        Ohio|     44256|   East|OFF-LA-10004544|     Labels|           Avery 505|  23.68|       2|     0.2|    8.88|\n",
            "|  VW-21775|    Victoria Wilson|  214|CA-2015-146262|  1/2/2015|  1/9/2015|Standard Class|Corporate|United States|       Medina|        Ohio|     44256|   East|FUR-BO-10004695|  Bookcases|O'Sullivan 2-Door...| 452.45|       5|     0.5|-244.323|\n",
            "|  VW-21775|    Victoria Wilson|  215|CA-2015-146262|  1/2/2015|  1/9/2015|Standard Class|Corporate|United States|       Medina|        Ohio|     44256|   East|TEC-PH-10002844|     Phones|Speck Products Ca...| 62.982|       3|     0.4|-14.6958|\n",
            "|  VW-21775|    Victoria Wilson|  216|CA-2015-146262|  1/2/2015|  1/9/2015|Standard Class|Corporate|United States|       Medina|        Ohio|     44256|   East|TEC-MA-10000864|   Machines|Cisco 9971 IP Vid...| 1188.0|       9|     0.7|  -950.4|\n",
            "|  VW-21775|    Victoria Wilson|  217|CA-2015-146262|  1/2/2015|  1/9/2015|Standard Class|Corporate|United States|       Medina|        Ohio|     44256|   East|TEC-AC-10000109|Accessories|Sony Micro Vault ...| 89.584|       2|     0.2|  4.4792|\n",
            "|  VW-21775|    Victoria Wilson| 1520|CA-2017-116204| 2/11/2017| 2/14/2017|  Second Class|Corporate|United States|San Francisco|  California|     94110|   West|OFF-BI-10001759|    Binders|Acco Pressboard C...| 21.336|       7|     0.2|  7.7343|\n",
            "|  VW-21775|    Victoria Wilson| 1555|CA-2015-111507|  2/6/2015| 2/13/2015|Standard Class|Corporate|United States|     Bellevue|  Washington|     98006|   West|OFF-AR-10001315|        Art|          Newell 310|   5.28|       3|     0.0|  1.5312|\n",
            "|  VW-21775|    Victoria Wilson| 1753|CA-2017-116715| 12/2/2017| 12/5/2017|   First Class|Corporate|United States|San Francisco|  California|     94122|   West|OFF-ST-10004340|    Storage|Fellowes Mobile F...| 559.62|       9|     0.0|151.0974|\n",
            "|  VW-21775|    Victoria Wilson| 1754|CA-2017-116715| 12/2/2017| 12/5/2017|   First Class|Corporate|United States|San Francisco|  California|     94122|   West|OFF-PA-10004475|      Paper|          Xerox 1940| 109.92|       2|     0.0| 53.8608|\n",
            "|  VW-21775|    Victoria Wilson| 1755|CA-2017-116715| 12/2/2017| 12/5/2017|   First Class|Corporate|United States|San Francisco|  California|     94122|   West|OFF-PA-10003893|      Paper|          Xerox 1962|   8.56|       2|     0.0|   3.852|\n",
            "|  PB-19210|     Phillip Breyer| 1809|CA-2016-164938| 2/11/2016| 2/13/2016|   First Class|Corporate|United States|        Tulsa|    Oklahoma|     74133|Central|TEC-PH-10004897|     Phones|Mediabridge Sport...|  69.93|       7|     0.0|  0.6993|\n",
            "|  RR-19315|       Ralph Ritter| 2504|CA-2016-149482|11/14/2016|11/19/2016|Standard Class| Consumer|United States|San Francisco|  California|     94110|   West|OFF-LA-10000248|     Labels|            Avery 52|   7.38|       2|     0.0|  3.4686|\n",
            "|  VW-21775|    Victoria Wilson| 3270|CA-2014-115980| 7/15/2014| 7/19/2014|Standard Class|Corporate|United States|  Sioux Falls|South Dakota|     57103|Central|TEC-AC-10003709|Accessories|Maxell 4.7GB DVD-...|   2.97|       3|     0.0|  1.3068|\n",
            "|  VW-21775|    Victoria Wilson| 3271|CA-2014-115980| 7/15/2014| 7/19/2014|Standard Class|Corporate|United States|  Sioux Falls|South Dakota|     57103|Central|OFF-FA-10000304|  Fasteners|  Advantus Push Pins|   6.54|       3|     0.0|  2.6814|\n",
            "|  RR-19315|       Ralph Ritter| 4358|CA-2017-162565|12/11/2017|12/11/2017|      Same Day| Consumer|United States|       Aurora|    Illinois|     60505|Central|OFF-PA-10001937|      Paper|            Xerox 21| 10.368|       2|     0.2|  3.6288|\n",
            "|  RR-19315|       Ralph Ritter| 4359|CA-2017-162565|12/11/2017|12/11/2017|      Same Day| Consumer|United States|       Aurora|    Illinois|     60505|Central|FUR-FU-10004306|Furnishings|Electrix Halogen ...|  77.72|       1|     0.6| -66.062|\n",
            "|  RR-19315|       Ralph Ritter| 4360|CA-2017-162565|12/11/2017|12/11/2017|      Same Day| Consumer|United States|       Aurora|    Illinois|     60505|Central|FUR-CH-10003973|     Chairs|GuestStacker Chai...|520.464|       2|     0.3|-14.8704|\n",
            "|  PB-19210|     Phillip Breyer| 4809|CA-2014-149055|11/23/2014|11/28/2014|Standard Class|Corporate|United States| Philadelphia|Pennsylvania|     19134|   East|OFF-EN-10003040|  Envelopes|Quality Park Secu...| 62.808|       3|     0.2| 21.1977|\n",
            "|  EM-13960|       Eric Murdock|  162|CA-2015-119697|12/28/2015|12/31/2015|  Second Class| Consumer|United States| Philadelphia|Pennsylvania|     19134|   East|TEC-AC-10003657|Accessories|Lenovo 17-Key USB...| 54.384|       2|     0.2|  1.3596|\n",
            "|  MY-17380|    Maribeth Yedwab|  501|US-2016-105578| 5/30/2016|  6/4/2016|Standard Class|Corporate|United States|       Parker|    Colorado|     80134|   West|OFF-BI-10001670|    Binders|Vinyl Sectional P...|  22.62|       2|     0.7|  -15.08|\n",
            "+----------+-------------------+-----+--------------+----------+----------+--------------+---------+-------------+-------------+------------+----------+-------+---------------+-----------+--------------------+-------+--------+--------+--------+\n",
            "only showing top 20 rows\n",
            "\n"
          ]
        }
      ],
      "source": [
        "df = superstore_df.select('RowID', 'OrderID','OrderDate', 'ShipDate', 'ShipMode', 'CustomerID','Segment','Country', 'City', 'State', 'PostalCode', 'Region', 'ProductID', 'SubCategory', 'ProductName', 'Sales', 'Quantity', 'Discount', 'Profit' )\n",
        "df = df_1.join(df, 'CustomerID')\n",
        "df.show()"
      ]
    },
    {
      "cell_type": "code",
      "source": [
        "df = df_2.join(df, 'ProductID')\n",
        "df.show()"
      ],
      "metadata": {
        "colab": {
          "base_uri": "https://localhost:8080/"
        },
        "id": "UgstsvYbi2vQ",
        "outputId": "e7b32748-038e-44c1-b4be-6e90c65ef0d1"
      },
      "execution_count": 85,
      "outputs": [
        {
          "output_type": "stream",
          "name": "stdout",
          "text": [
            "+---------------+---------------+----------+-------------------+-----+--------------+----------+----------+--------------+---------+-------------+-------------+------------+----------+-------+-----------+--------------------+-------+--------+--------+--------+\n",
            "|      ProductID|first(Category)|CustomerID|first(CustomerName)|RowID|       OrderID| OrderDate|  ShipDate|      ShipMode|  Segment|      Country|         City|       State|PostalCode| Region|SubCategory|         ProductName|  Sales|Quantity|Discount|  Profit|\n",
            "+---------------+---------------+----------+-------------------+-----+--------------+----------+----------+--------------+---------+-------------+-------------+------------+----------+-------+-----------+--------------------+-------+--------+--------+--------+\n",
            "|OFF-LA-10004544|Office Supplies|  VW-21775|    Victoria Wilson|  213|CA-2015-146262|  1/2/2015|  1/9/2015|Standard Class|Corporate|United States|       Medina|        Ohio|     44256|   East|     Labels|           Avery 505|  23.68|       2|     0.2|    8.88|\n",
            "|FUR-BO-10004695|      Furniture|  VW-21775|    Victoria Wilson|  214|CA-2015-146262|  1/2/2015|  1/9/2015|Standard Class|Corporate|United States|       Medina|        Ohio|     44256|   East|  Bookcases|O'Sullivan 2-Door...| 452.45|       5|     0.5|-244.323|\n",
            "|TEC-PH-10002844|     Technology|  VW-21775|    Victoria Wilson|  215|CA-2015-146262|  1/2/2015|  1/9/2015|Standard Class|Corporate|United States|       Medina|        Ohio|     44256|   East|     Phones|Speck Products Ca...| 62.982|       3|     0.4|-14.6958|\n",
            "|TEC-MA-10000864|     Technology|  VW-21775|    Victoria Wilson|  216|CA-2015-146262|  1/2/2015|  1/9/2015|Standard Class|Corporate|United States|       Medina|        Ohio|     44256|   East|   Machines|Cisco 9971 IP Vid...| 1188.0|       9|     0.7|  -950.4|\n",
            "|TEC-AC-10000109|     Technology|  VW-21775|    Victoria Wilson|  217|CA-2015-146262|  1/2/2015|  1/9/2015|Standard Class|Corporate|United States|       Medina|        Ohio|     44256|   East|Accessories|Sony Micro Vault ...| 89.584|       2|     0.2|  4.4792|\n",
            "|OFF-BI-10001759|Office Supplies|  VW-21775|    Victoria Wilson| 1520|CA-2017-116204| 2/11/2017| 2/14/2017|  Second Class|Corporate|United States|San Francisco|  California|     94110|   West|    Binders|Acco Pressboard C...| 21.336|       7|     0.2|  7.7343|\n",
            "|OFF-AR-10001315|Office Supplies|  VW-21775|    Victoria Wilson| 1555|CA-2015-111507|  2/6/2015| 2/13/2015|Standard Class|Corporate|United States|     Bellevue|  Washington|     98006|   West|        Art|          Newell 310|   5.28|       3|     0.0|  1.5312|\n",
            "|OFF-ST-10004340|Office Supplies|  VW-21775|    Victoria Wilson| 1753|CA-2017-116715| 12/2/2017| 12/5/2017|   First Class|Corporate|United States|San Francisco|  California|     94122|   West|    Storage|Fellowes Mobile F...| 559.62|       9|     0.0|151.0974|\n",
            "|OFF-PA-10004475|Office Supplies|  VW-21775|    Victoria Wilson| 1754|CA-2017-116715| 12/2/2017| 12/5/2017|   First Class|Corporate|United States|San Francisco|  California|     94122|   West|      Paper|          Xerox 1940| 109.92|       2|     0.0| 53.8608|\n",
            "|OFF-PA-10003893|Office Supplies|  VW-21775|    Victoria Wilson| 1755|CA-2017-116715| 12/2/2017| 12/5/2017|   First Class|Corporate|United States|San Francisco|  California|     94122|   West|      Paper|          Xerox 1962|   8.56|       2|     0.0|   3.852|\n",
            "|TEC-PH-10004897|     Technology|  PB-19210|     Phillip Breyer| 1809|CA-2016-164938| 2/11/2016| 2/13/2016|   First Class|Corporate|United States|        Tulsa|    Oklahoma|     74133|Central|     Phones|Mediabridge Sport...|  69.93|       7|     0.0|  0.6993|\n",
            "|OFF-LA-10000248|Office Supplies|  RR-19315|       Ralph Ritter| 2504|CA-2016-149482|11/14/2016|11/19/2016|Standard Class| Consumer|United States|San Francisco|  California|     94110|   West|     Labels|            Avery 52|   7.38|       2|     0.0|  3.4686|\n",
            "|TEC-AC-10003709|     Technology|  VW-21775|    Victoria Wilson| 3270|CA-2014-115980| 7/15/2014| 7/19/2014|Standard Class|Corporate|United States|  Sioux Falls|South Dakota|     57103|Central|Accessories|Maxell 4.7GB DVD-...|   2.97|       3|     0.0|  1.3068|\n",
            "|OFF-FA-10000304|Office Supplies|  VW-21775|    Victoria Wilson| 3271|CA-2014-115980| 7/15/2014| 7/19/2014|Standard Class|Corporate|United States|  Sioux Falls|South Dakota|     57103|Central|  Fasteners|  Advantus Push Pins|   6.54|       3|     0.0|  2.6814|\n",
            "|OFF-PA-10001937|Office Supplies|  RR-19315|       Ralph Ritter| 4358|CA-2017-162565|12/11/2017|12/11/2017|      Same Day| Consumer|United States|       Aurora|    Illinois|     60505|Central|      Paper|            Xerox 21| 10.368|       2|     0.2|  3.6288|\n",
            "|FUR-FU-10004306|      Furniture|  RR-19315|       Ralph Ritter| 4359|CA-2017-162565|12/11/2017|12/11/2017|      Same Day| Consumer|United States|       Aurora|    Illinois|     60505|Central|Furnishings|Electrix Halogen ...|  77.72|       1|     0.6| -66.062|\n",
            "|FUR-CH-10003973|      Furniture|  RR-19315|       Ralph Ritter| 4360|CA-2017-162565|12/11/2017|12/11/2017|      Same Day| Consumer|United States|       Aurora|    Illinois|     60505|Central|     Chairs|GuestStacker Chai...|520.464|       2|     0.3|-14.8704|\n",
            "|OFF-EN-10003040|Office Supplies|  PB-19210|     Phillip Breyer| 4809|CA-2014-149055|11/23/2014|11/28/2014|Standard Class|Corporate|United States| Philadelphia|Pennsylvania|     19134|   East|  Envelopes|Quality Park Secu...| 62.808|       3|     0.2| 21.1977|\n",
            "|TEC-AC-10003657|     Technology|  EM-13960|       Eric Murdock|  162|CA-2015-119697|12/28/2015|12/31/2015|  Second Class| Consumer|United States| Philadelphia|Pennsylvania|     19134|   East|Accessories|Lenovo 17-Key USB...| 54.384|       2|     0.2|  1.3596|\n",
            "|OFF-BI-10001670|Office Supplies|  MY-17380|    Maribeth Yedwab|  501|US-2016-105578| 5/30/2016|  6/4/2016|Standard Class|Corporate|United States|       Parker|    Colorado|     80134|   West|    Binders|Vinyl Sectional P...|  22.62|       2|     0.7|  -15.08|\n",
            "+---------------+---------------+----------+-------------------+-----+--------------+----------+----------+--------------+---------+-------------+-------------+------------+----------+-------+-----------+--------------------+-------+--------+--------+--------+\n",
            "only showing top 20 rows\n",
            "\n"
          ]
        }
      ]
    },
    {
      "cell_type": "markdown",
      "source": [
        "### **Change column names and order them by `RowID`**"
      ],
      "metadata": {
        "id": "8BBK9znrl8lo"
      }
    },
    {
      "cell_type": "code",
      "source": [
        "df = df.select('RowID', 'OrderID','OrderDate', 'ShipDate', 'ShipMode', 'CustomerID', 'first(CustomerName)', 'Segment','Country', 'City', 'State', 'PostalCode', 'Region', 'ProductID', 'first(Category)', 'SubCategory', 'ProductName', 'Sales', 'Quantity', 'Discount', 'Profit' ).orderBy('RowID').withColumnRenamed(\"first(CustomerName)\",\"CustomerName\").withColumnRenamed(\"first(Category)\",\"Category\")\n",
        "df.show()"
      ],
      "metadata": {
        "colab": {
          "base_uri": "https://localhost:8080/"
        },
        "id": "UdHE3TIZi9KW",
        "outputId": "6af0e76f-d178-4f88-95f2-1f5bd745b32b"
      },
      "execution_count": 87,
      "outputs": [
        {
          "output_type": "stream",
          "name": "stdout",
          "text": [
            "+-----+--------------+----------+----------+--------------+----------+------------------+-----------+-------------+---------------+--------------+----------+-------+---------------+---------------+-----------+--------------------+--------+--------+--------+--------+\n",
            "|RowID|       OrderID| OrderDate|  ShipDate|      ShipMode|CustomerID|      CustomerName|    Segment|      Country|           City|         State|PostalCode| Region|      ProductID|       Category|SubCategory|         ProductName|   Sales|Quantity|Discount|  Profit|\n",
            "+-----+--------------+----------+----------+--------------+----------+------------------+-----------+-------------+---------------+--------------+----------+-------+---------------+---------------+-----------+--------------------+--------+--------+--------+--------+\n",
            "|    1|CA-2016-152156| 11/8/2016|11/11/2016|  Second Class|  CG-12520|       Claire Gute|   Consumer|United States|      Henderson|      Kentucky|     42420|  South|FUR-BO-10001798|            NaN|  Bookcases|Bush Somerset Col...|  261.96|       2|     0.0| 41.9136|\n",
            "|    2|CA-2016-152156| 11/8/2016|11/11/2016|  Second Class|  CG-12520|       Claire Gute|   Consumer|United States|      Henderson|      Kentucky|     42420|  South|FUR-CH-10000454|      Furniture|     Chairs|Hon Deluxe Fabric...|  731.94|       3|     0.0| 219.582|\n",
            "|    3|CA-2016-138688| 6/12/2016| 6/16/2016|  Second Class|  DV-13045|   Darrin Van Huff|  Corporate|United States|    Los Angeles|    California|     90036|   West|OFF-LA-10000240|Office Supplies|     Labels|Self-Adhesive Add...|   14.62|       2|     0.0|  6.8714|\n",
            "|    4|US-2015-108966|10/11/2015|10/18/2015|Standard Class|  SO-20335|    Sean O'Donnell|   Consumer|United States|Fort Lauderdale|       Florida|     33311|  South|FUR-TA-10000577|      Furniture|     Tables|Bretford CR4500 S...|957.5775|       5|    0.45|-383.031|\n",
            "|    5|US-2015-108966|10/11/2015|10/18/2015|Standard Class|  SO-20335|    Sean O'Donnell|   Consumer|United States|Fort Lauderdale|       Florida|     33311|  South|OFF-ST-10000760|Office Supplies|    Storage|Eldon Fold 'N Rol...|  22.368|       2|     0.2|  2.5164|\n",
            "|    6|CA-2014-115812|  6/9/2014| 6/14/2014|Standard Class|  BH-11710|   Brosina Hoffman|   Consumer|United States|    Los Angeles|    California|     90032|   West|FUR-FU-10001487|      Furniture|Furnishings|Eldon Expressions...|   48.86|       7|     0.0| 14.1694|\n",
            "|    7|CA-2014-115812|  6/9/2014| 6/14/2014|Standard Class|  BH-11710|   Brosina Hoffman|   Consumer|United States|    Los Angeles|    California|     90032|   West|OFF-AR-10002833|Office Supplies|        Art|          Newell 322|    7.28|       4|     0.0|  1.9656|\n",
            "|    8|CA-2014-115812|  6/9/2014| 6/14/2014|Standard Class|  BH-11710|   Brosina Hoffman|   Consumer|United States|    Los Angeles|    California|     90032|   West|TEC-PH-10002275|     Technology|     Phones|Mitel 5320 IP Pho...| 907.152|       6|     0.2| 90.7152|\n",
            "|    9|CA-2014-115812|  6/9/2014| 6/14/2014|Standard Class|  BH-11710|   Brosina Hoffman|   Consumer|United States|    Los Angeles|    California|     90032|   West|OFF-BI-10003910|Office Supplies|    Binders|DXL Angle-View Bi...|  18.504|       3|     0.2|  5.7825|\n",
            "|   10|CA-2014-115812|  6/9/2014| 6/14/2014|Standard Class|  BH-11710|   Brosina Hoffman|   Consumer|United States|    Los Angeles|    California|     90032|   West|OFF-AP-10002892|Office Supplies| Appliances|Belkin F5C206VTEL...|   114.9|       5|     0.0|   34.47|\n",
            "|   11|CA-2014-115812|  6/9/2014| 6/14/2014|Standard Class|  BH-11710|   Brosina Hoffman|   Consumer|United States|    Los Angeles|    California|     90032|   West|FUR-TA-10001539|      Furniture|     Tables|Chromcraft Rectan...|1706.184|       9|     0.2| 85.3092|\n",
            "|   12|CA-2014-115812|  6/9/2014| 6/14/2014|Standard Class|  BH-11710|   Brosina Hoffman|   Consumer|United States|    Los Angeles|    California|     90032|   West|TEC-PH-10002033|     Technology|     Phones|Konftel 250 Confe...| 911.424|       4|     0.2| 68.3568|\n",
            "|   13|CA-2017-114412| 4/15/2017| 4/20/2017|Standard Class|  AA-10480|      Andrew Allen|   Consumer|United States|        Concord|North Carolina|     28027|  South|OFF-PA-10002365|Office Supplies|      Paper|          Xerox 1967|  15.552|       3|     0.2|  5.4432|\n",
            "|   14|CA-2016-161389| 12/5/2016|12/10/2016|Standard Class|  IM-15070|      Irene Maddox|   Consumer|United States|        Seattle|    Washington|     98103|   West|OFF-BI-10003656|Office Supplies|    Binders|Fellowes PB200 Pl...| 407.976|       3|     0.2|132.5922|\n",
            "|   15|US-2015-118983|11/22/2015|11/26/2015|Standard Class|  HP-14815|     Harold Pawlan|Home Office|United States|     Fort Worth|         Texas|     76106|Central|OFF-AP-10002311|Office Supplies| Appliances|Holmes Replacemen...|   68.81|       5|     0.8|-123.858|\n",
            "|   16|US-2015-118983|11/22/2015|11/26/2015|Standard Class|  HP-14815|     Harold Pawlan|Home Office|United States|     Fort Worth|         Texas|     76106|Central|OFF-BI-10000756|Office Supplies|    Binders|Storex DuraTech R...|   2.544|       3|     0.8|  -3.816|\n",
            "|   17|CA-2014-105893|11/11/2014|11/18/2014|Standard Class|  PK-19075|         Pete Kriz|   Consumer|United States|        Madison|     Wisconsin|     53711|Central|OFF-ST-10004186|            NaN|    Storage|Stur-D-Stor Shelv...|  665.88|       6|     0.0| 13.3176|\n",
            "|   18|CA-2014-167164| 5/13/2014| 5/15/2014|  Second Class|  AG-10270|   Alejandro Grove|   Consumer|United States|    West Jordan|          Utah|     84084|   West|OFF-ST-10000107|Office Supplies|    Storage|Fellowes Super St...|    55.5|       2|     0.0|    9.99|\n",
            "|   19|CA-2014-143336| 8/27/2014|  9/1/2014|  Second Class|  ZD-21925|Zuschuss Donatelli|   Consumer|United States|  San Francisco|    California|     94109|   West|OFF-AR-10003056|Office Supplies|        Art|          Newell 341|    8.56|       2|     0.0|  2.4824|\n",
            "|   20|CA-2014-143336| 8/27/2014|  9/1/2014|  Second Class|  ZD-21925|Zuschuss Donatelli|   Consumer|United States|  San Francisco|    California|     94109|   West|TEC-PH-10001949|     Technology|     Phones|Cisco SPA 501G IP...|  213.48|       3|     0.2|  16.011|\n",
            "+-----+--------------+----------+----------+--------------+----------+------------------+-----------+-------------+---------------+--------------+----------+-------+---------------+---------------+-----------+--------------------+--------+--------+--------+--------+\n",
            "only showing top 20 rows\n",
            "\n"
          ]
        }
      ]
    },
    {
      "cell_type": "markdown",
      "source": [
        "### **Setting defaults value for null values**"
      ],
      "metadata": {
        "id": "WA-85GYXnRiL"
      }
    },
    {
      "cell_type": "code",
      "source": [
        "df = df.na.fill({\n",
        "    \"ShipMode\": \"EMPTY\",\n",
        "    \"Segment\": \"EMPTY\",\n",
        "    \"Country\": \"EMPTY\",\n",
        "    \"PostalCode\": \"EMPTY\",\n",
        "    \"Region\": \"EMPTY\",\n",
        "    \"Segment\": \"EMPTY\",\n",
        "    \"SubCategory\": \"EMPTY\",\n",
        "    \"ProductName\": \"EMPTY\",\n",
        "})\n",
        "\n",
        "df.show()"
      ],
      "metadata": {
        "colab": {
          "base_uri": "https://localhost:8080/"
        },
        "id": "kCu7MbVAj4GA",
        "outputId": "00599df1-cc9c-40fc-ef1c-ab565bfdf646"
      },
      "execution_count": 89,
      "outputs": [
        {
          "output_type": "stream",
          "name": "stdout",
          "text": [
            "+-----+--------------+----------+----------+--------------+----------+------------------+-----------+-------------+---------------+--------------+----------+-------+---------------+---------------+-----------+--------------------+--------+--------+--------+--------+\n",
            "|RowID|       OrderID| OrderDate|  ShipDate|      ShipMode|CustomerID|      CustomerName|    Segment|      Country|           City|         State|PostalCode| Region|      ProductID|       Category|SubCategory|         ProductName|   Sales|Quantity|Discount|  Profit|\n",
            "+-----+--------------+----------+----------+--------------+----------+------------------+-----------+-------------+---------------+--------------+----------+-------+---------------+---------------+-----------+--------------------+--------+--------+--------+--------+\n",
            "|    1|CA-2016-152156| 11/8/2016|11/11/2016|  Second Class|  CG-12520|       Claire Gute|   Consumer|United States|      Henderson|      Kentucky|     42420|  South|FUR-BO-10001798|            NaN|  Bookcases|Bush Somerset Col...|  261.96|       2|     0.0| 41.9136|\n",
            "|    2|CA-2016-152156| 11/8/2016|11/11/2016|  Second Class|  CG-12520|       Claire Gute|   Consumer|United States|      Henderson|      Kentucky|     42420|  South|FUR-CH-10000454|      Furniture|     Chairs|Hon Deluxe Fabric...|  731.94|       3|     0.0| 219.582|\n",
            "|    3|CA-2016-138688| 6/12/2016| 6/16/2016|  Second Class|  DV-13045|   Darrin Van Huff|  Corporate|United States|    Los Angeles|    California|     90036|   West|OFF-LA-10000240|Office Supplies|     Labels|Self-Adhesive Add...|   14.62|       2|     0.0|  6.8714|\n",
            "|    4|US-2015-108966|10/11/2015|10/18/2015|Standard Class|  SO-20335|    Sean O'Donnell|   Consumer|United States|Fort Lauderdale|       Florida|     33311|  South|FUR-TA-10000577|      Furniture|     Tables|Bretford CR4500 S...|957.5775|       5|    0.45|-383.031|\n",
            "|    5|US-2015-108966|10/11/2015|10/18/2015|Standard Class|  SO-20335|    Sean O'Donnell|   Consumer|United States|Fort Lauderdale|       Florida|     33311|  South|OFF-ST-10000760|Office Supplies|    Storage|Eldon Fold 'N Rol...|  22.368|       2|     0.2|  2.5164|\n",
            "|    6|CA-2014-115812|  6/9/2014| 6/14/2014|Standard Class|  BH-11710|   Brosina Hoffman|   Consumer|United States|    Los Angeles|    California|     90032|   West|FUR-FU-10001487|      Furniture|Furnishings|Eldon Expressions...|   48.86|       7|     0.0| 14.1694|\n",
            "|    7|CA-2014-115812|  6/9/2014| 6/14/2014|Standard Class|  BH-11710|   Brosina Hoffman|   Consumer|United States|    Los Angeles|    California|     90032|   West|OFF-AR-10002833|Office Supplies|        Art|          Newell 322|    7.28|       4|     0.0|  1.9656|\n",
            "|    8|CA-2014-115812|  6/9/2014| 6/14/2014|Standard Class|  BH-11710|   Brosina Hoffman|   Consumer|United States|    Los Angeles|    California|     90032|   West|TEC-PH-10002275|     Technology|     Phones|Mitel 5320 IP Pho...| 907.152|       6|     0.2| 90.7152|\n",
            "|    9|CA-2014-115812|  6/9/2014| 6/14/2014|Standard Class|  BH-11710|   Brosina Hoffman|   Consumer|United States|    Los Angeles|    California|     90032|   West|OFF-BI-10003910|Office Supplies|    Binders|DXL Angle-View Bi...|  18.504|       3|     0.2|  5.7825|\n",
            "|   10|CA-2014-115812|  6/9/2014| 6/14/2014|Standard Class|  BH-11710|   Brosina Hoffman|   Consumer|United States|    Los Angeles|    California|     90032|   West|OFF-AP-10002892|Office Supplies| Appliances|Belkin F5C206VTEL...|   114.9|       5|     0.0|   34.47|\n",
            "|   11|CA-2014-115812|  6/9/2014| 6/14/2014|Standard Class|  BH-11710|   Brosina Hoffman|   Consumer|United States|    Los Angeles|    California|     90032|   West|FUR-TA-10001539|      Furniture|     Tables|Chromcraft Rectan...|1706.184|       9|     0.2| 85.3092|\n",
            "|   12|CA-2014-115812|  6/9/2014| 6/14/2014|Standard Class|  BH-11710|   Brosina Hoffman|   Consumer|United States|    Los Angeles|    California|     90032|   West|TEC-PH-10002033|     Technology|     Phones|Konftel 250 Confe...| 911.424|       4|     0.2| 68.3568|\n",
            "|   13|CA-2017-114412| 4/15/2017| 4/20/2017|Standard Class|  AA-10480|      Andrew Allen|   Consumer|United States|        Concord|North Carolina|     28027|  South|OFF-PA-10002365|Office Supplies|      Paper|          Xerox 1967|  15.552|       3|     0.2|  5.4432|\n",
            "|   14|CA-2016-161389| 12/5/2016|12/10/2016|Standard Class|  IM-15070|      Irene Maddox|   Consumer|United States|        Seattle|    Washington|     98103|   West|OFF-BI-10003656|Office Supplies|    Binders|Fellowes PB200 Pl...| 407.976|       3|     0.2|132.5922|\n",
            "|   15|US-2015-118983|11/22/2015|11/26/2015|Standard Class|  HP-14815|     Harold Pawlan|Home Office|United States|     Fort Worth|         Texas|     76106|Central|OFF-AP-10002311|Office Supplies| Appliances|Holmes Replacemen...|   68.81|       5|     0.8|-123.858|\n",
            "|   16|US-2015-118983|11/22/2015|11/26/2015|Standard Class|  HP-14815|     Harold Pawlan|Home Office|United States|     Fort Worth|         Texas|     76106|Central|OFF-BI-10000756|Office Supplies|    Binders|Storex DuraTech R...|   2.544|       3|     0.8|  -3.816|\n",
            "|   17|CA-2014-105893|11/11/2014|11/18/2014|Standard Class|  PK-19075|         Pete Kriz|   Consumer|United States|        Madison|     Wisconsin|     53711|Central|OFF-ST-10004186|            NaN|    Storage|Stur-D-Stor Shelv...|  665.88|       6|     0.0| 13.3176|\n",
            "|   18|CA-2014-167164| 5/13/2014| 5/15/2014|  Second Class|  AG-10270|   Alejandro Grove|   Consumer|United States|    West Jordan|          Utah|     84084|   West|OFF-ST-10000107|Office Supplies|    Storage|Fellowes Super St...|    55.5|       2|     0.0|    9.99|\n",
            "|   19|CA-2014-143336| 8/27/2014|  9/1/2014|  Second Class|  ZD-21925|Zuschuss Donatelli|   Consumer|United States|  San Francisco|    California|     94109|   West|OFF-AR-10003056|Office Supplies|        Art|          Newell 341|    8.56|       2|     0.0|  2.4824|\n",
            "|   20|CA-2014-143336| 8/27/2014|  9/1/2014|  Second Class|  ZD-21925|Zuschuss Donatelli|   Consumer|United States|  San Francisco|    California|     94109|   West|TEC-PH-10001949|     Technology|     Phones|Cisco SPA 501G IP...|  213.48|       3|     0.2|  16.011|\n",
            "+-----+--------------+----------+----------+--------------+----------+------------------+-----------+-------------+---------------+--------------+----------+-------+---------------+---------------+-----------+--------------------+--------+--------+--------+--------+\n",
            "only showing top 20 rows\n",
            "\n"
          ]
        }
      ]
    },
    {
      "cell_type": "code",
      "source": [],
      "metadata": {
        "id": "_ZZ67A0bnh6c"
      },
      "execution_count": 89,
      "outputs": []
    }
  ],
  "metadata": {
    "colab": {
      "provenance": [],
      "include_colab_link": true
    },
    "kernelspec": {
      "display_name": "Python 3",
      "name": "python3"
    },
    "language_info": {
      "name": "python"
    }
  },
  "nbformat": 4,
  "nbformat_minor": 0
}